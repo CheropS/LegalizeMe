{
 "cells": [
  {
   "cell_type": "code",
   "execution_count": 1,
   "metadata": {},
   "outputs": [
    {
     "name": "stdout",
     "output_type": "stream",
     "text": [
      "        county\n",
      "0  Los Angeles\n",
      "1       Orange\n",
      "2    San Diego\n",
      "3       Orange\n",
      "4  Los Angeles\n",
      "county    category\n",
      "dtype: object\n"
     ]
    }
   ],
   "source": [
    "import pandas as pd\n",
    "\n",
    "# Example DataFrame\n",
    "data = {'county': ['Los Angeles', 'Orange', 'San Diego', 'Orange', 'Los Angeles']}\n",
    "df = pd.DataFrame(data)\n",
    "\n",
    "# Convert 'county' column to categorical\n",
    "df['county'] = df['county'].astype('category')\n",
    "\n",
    "# View the DataFrame and the data types\n",
    "print(df)\n",
    "print(df.dtypes)\n"
   ]
  },
  {
   "cell_type": "code",
   "execution_count": null,
   "metadata": {},
   "outputs": [],
   "source": []
  }
 ],
 "metadata": {
  "kernelspec": {
   "display_name": "Python 3",
   "language": "python",
   "name": "python3"
  },
  "language_info": {
   "codemirror_mode": {
    "name": "ipython",
    "version": 3
   },
   "file_extension": ".py",
   "mimetype": "text/x-python",
   "name": "python",
   "nbconvert_exporter": "python",
   "pygments_lexer": "ipython3",
   "version": "3.10.12"
  }
 },
 "nbformat": 4,
 "nbformat_minor": 2
}
