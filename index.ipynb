{
 "cells": [
  {
   "cell_type": "code",
   "execution_count": 2,
   "metadata": {},
   "outputs": [],
   "source": [
    "import pandas as pd"
   ]
  },
  {
   "cell_type": "code",
   "execution_count": 3,
   "metadata": {},
   "outputs": [],
   "source": [
    "df = pd.read_csv('casefiles_csv/all_cases_data.csv')"
   ]
  },
  {
   "cell_type": "code",
   "execution_count": 4,
   "metadata": {},
   "outputs": [
    {
     "name": "stdout",
     "output_type": "stream",
     "text": [
      "<class 'pandas.core.frame.DataFrame'>\n",
      "RangeIndex: 100 entries, 0 to 99\n",
      "Data columns (total 7 columns):\n",
      " #   Column         Non-Null Count  Dtype  \n",
      "---  ------         --------------  -----  \n",
      " 0   Case_Number    100 non-null    int64  \n",
      " 1   Full_Text      97 non-null     object \n",
      " 2   Title          97 non-null     object \n",
      " 3   Docket_No      97 non-null     object \n",
      " 4   Judges         97 non-null     object \n",
      " 5   Date           97 non-null     object \n",
      " 6   type_of_court  0 non-null      float64\n",
      "dtypes: float64(1), int64(1), object(5)\n",
      "memory usage: 5.6+ KB\n"
     ]
    }
   ],
   "source": [
    "df.info()"
   ]
  },
  {
   "cell_type": "code",
   "execution_count": 5,
   "metadata": {},
   "outputs": [
    {
     "data": {
      "text/html": [
       "<div>\n",
       "<style scoped>\n",
       "    .dataframe tbody tr th:only-of-type {\n",
       "        vertical-align: middle;\n",
       "    }\n",
       "\n",
       "    .dataframe tbody tr th {\n",
       "        vertical-align: top;\n",
       "    }\n",
       "\n",
       "    .dataframe thead th {\n",
       "        text-align: right;\n",
       "    }\n",
       "</style>\n",
       "<table border=\"1\" class=\"dataframe\">\n",
       "  <thead>\n",
       "    <tr style=\"text-align: right;\">\n",
       "      <th></th>\n",
       "      <th>Case_Number</th>\n",
       "      <th>Full_Text</th>\n",
       "      <th>Title</th>\n",
       "      <th>Docket_No</th>\n",
       "      <th>Judges</th>\n",
       "      <th>Date</th>\n",
       "      <th>type_of_court</th>\n",
       "    </tr>\n",
       "  </thead>\n",
       "  <tbody>\n",
       "    <tr>\n",
       "      <th>0</th>\n",
       "      <td>298904</td>\n",
       "      <td>NaN</td>\n",
       "      <td>NaN</td>\n",
       "      <td>NaN</td>\n",
       "      <td>NaN</td>\n",
       "      <td>NaN</td>\n",
       "      <td>NaN</td>\n",
       "    </tr>\n",
       "    <tr>\n",
       "      <th>1</th>\n",
       "      <td>298903</td>\n",
       "      <td>In re Estate of Peter Ayugu Ngaira (Deceased) ...</td>\n",
       "      <td>In re Estate of Peter Ayugu Ngaira (Deceased) ...</td>\n",
       "      <td>Family Appeal 13 of 2021</td>\n",
       "      <td>SC Chirchir, J</td>\n",
       "      <td>August 26, 2024</td>\n",
       "      <td>NaN</td>\n",
       "    </tr>\n",
       "    <tr>\n",
       "      <th>2</th>\n",
       "      <td>298902</td>\n",
       "      <td>Tuguro v National Intelligence Service &amp; anoth...</td>\n",
       "      <td>Tuguro v National Intelligence Service &amp; anoth...</td>\n",
       "      <td>Petition E213 of 2022</td>\n",
       "      <td>NJ Abuodha, J</td>\n",
       "      <td>September 6, 2024</td>\n",
       "      <td>NaN</td>\n",
       "    </tr>\n",
       "    <tr>\n",
       "      <th>3</th>\n",
       "      <td>298901</td>\n",
       "      <td>In re Estate of George Odhiambo Akal (Deceased...</td>\n",
       "      <td>In re Estate of George Odhiambo Akal (Deceased...</td>\n",
       "      <td>Miscellaneous Succession Cause E051 of 2024</td>\n",
       "      <td>RE Aburili, J</td>\n",
       "      <td>September 4, 2024</td>\n",
       "      <td>NaN</td>\n",
       "    </tr>\n",
       "    <tr>\n",
       "      <th>4</th>\n",
       "      <td>298900</td>\n",
       "      <td>Chloride Exide Kenya Limited v Commissioner of...</td>\n",
       "      <td>Chloride Exide Kenya Limited v Commissioner of...</td>\n",
       "      <td>Tax Appeal E589 of 2023</td>\n",
       "      <td>E.N Wafula, Chair, Jephthah Njagi, E Ng'ang'a ...</td>\n",
       "      <td>August 9, 2024</td>\n",
       "      <td>NaN</td>\n",
       "    </tr>\n",
       "    <tr>\n",
       "      <th>5</th>\n",
       "      <td>298899</td>\n",
       "      <td>Green Mango Investment Limited v Commissioner ...</td>\n",
       "      <td>Green Mango Investment Limited v Commissioner ...</td>\n",
       "      <td>Tax Appeal E100 of 2023</td>\n",
       "      <td>E.N Wafula, Chair, Cynthia B. Mayaka, RO Oluoc...</td>\n",
       "      <td>August 9, 2024</td>\n",
       "      <td>NaN</td>\n",
       "    </tr>\n",
       "    <tr>\n",
       "      <th>6</th>\n",
       "      <td>298898</td>\n",
       "      <td>Three Rivers Resort Limited v Commissioner of ...</td>\n",
       "      <td>Three Rivers Resort Limited v Commissioner of ...</td>\n",
       "      <td>Tax Appeal E451 of 2023</td>\n",
       "      <td>E.N Wafula, Chair, Jephthah Njagi, E Ng'ang'a ...</td>\n",
       "      <td>August 23, 2024</td>\n",
       "      <td>NaN</td>\n",
       "    </tr>\n",
       "    <tr>\n",
       "      <th>7</th>\n",
       "      <td>298897</td>\n",
       "      <td>Villa Grazia Luxury Hotel Limited v Commission...</td>\n",
       "      <td>Villa Grazia Luxury Hotel Limited v Commission...</td>\n",
       "      <td>Appeal E413a of 2023</td>\n",
       "      <td>E.N Wafula, Chair, Jephthah Njagi, E Ng'ang'a ...</td>\n",
       "      <td>August 23, 2024</td>\n",
       "      <td>NaN</td>\n",
       "    </tr>\n",
       "    <tr>\n",
       "      <th>8</th>\n",
       "      <td>298896</td>\n",
       "      <td>Musoni Microfinance Limited v Commissioner of ...</td>\n",
       "      <td>Musoni Microfinance Limited v Commissioner of ...</td>\n",
       "      <td>Tax Appeal E125 of 2023</td>\n",
       "      <td>E.N Wafula, Chair, Cynthia B. Mayaka, RO Oluoc...</td>\n",
       "      <td>August 9, 2024</td>\n",
       "      <td>NaN</td>\n",
       "    </tr>\n",
       "    <tr>\n",
       "      <th>9</th>\n",
       "      <td>298895</td>\n",
       "      <td>Car and General Trading Limited v Commissioner...</td>\n",
       "      <td>Car and General Trading Limited v Commissioner...</td>\n",
       "      <td>Tax Appeal E317 of 2023</td>\n",
       "      <td>E.N Wafula, Chair, RO Oluoch, AK Kiprotich, Cy...</td>\n",
       "      <td>August 9, 2024</td>\n",
       "      <td>NaN</td>\n",
       "    </tr>\n",
       "  </tbody>\n",
       "</table>\n",
       "</div>"
      ],
      "text/plain": [
       "   Case_Number                                          Full_Text  \\\n",
       "0       298904                                                NaN   \n",
       "1       298903  In re Estate of Peter Ayugu Ngaira (Deceased) ...   \n",
       "2       298902  Tuguro v National Intelligence Service & anoth...   \n",
       "3       298901  In re Estate of George Odhiambo Akal (Deceased...   \n",
       "4       298900  Chloride Exide Kenya Limited v Commissioner of...   \n",
       "5       298899  Green Mango Investment Limited v Commissioner ...   \n",
       "6       298898  Three Rivers Resort Limited v Commissioner of ...   \n",
       "7       298897  Villa Grazia Luxury Hotel Limited v Commission...   \n",
       "8       298896  Musoni Microfinance Limited v Commissioner of ...   \n",
       "9       298895  Car and General Trading Limited v Commissioner...   \n",
       "\n",
       "                                               Title  \\\n",
       "0                                                NaN   \n",
       "1  In re Estate of Peter Ayugu Ngaira (Deceased) ...   \n",
       "2  Tuguro v National Intelligence Service & anoth...   \n",
       "3  In re Estate of George Odhiambo Akal (Deceased...   \n",
       "4  Chloride Exide Kenya Limited v Commissioner of...   \n",
       "5  Green Mango Investment Limited v Commissioner ...   \n",
       "6  Three Rivers Resort Limited v Commissioner of ...   \n",
       "7  Villa Grazia Luxury Hotel Limited v Commission...   \n",
       "8  Musoni Microfinance Limited v Commissioner of ...   \n",
       "9  Car and General Trading Limited v Commissioner...   \n",
       "\n",
       "                                     Docket_No  \\\n",
       "0                                          NaN   \n",
       "1                     Family Appeal 13 of 2021   \n",
       "2                        Petition E213 of 2022   \n",
       "3  Miscellaneous Succession Cause E051 of 2024   \n",
       "4                      Tax Appeal E589 of 2023   \n",
       "5                      Tax Appeal E100 of 2023   \n",
       "6                      Tax Appeal E451 of 2023   \n",
       "7                         Appeal E413a of 2023   \n",
       "8                      Tax Appeal E125 of 2023   \n",
       "9                      Tax Appeal E317 of 2023   \n",
       "\n",
       "                                              Judges               Date  \\\n",
       "0                                                NaN                NaN   \n",
       "1                                     SC Chirchir, J    August 26, 2024   \n",
       "2                                      NJ Abuodha, J  September 6, 2024   \n",
       "3                                      RE Aburili, J  September 4, 2024   \n",
       "4  E.N Wafula, Chair, Jephthah Njagi, E Ng'ang'a ...     August 9, 2024   \n",
       "5  E.N Wafula, Chair, Cynthia B. Mayaka, RO Oluoc...     August 9, 2024   \n",
       "6  E.N Wafula, Chair, Jephthah Njagi, E Ng'ang'a ...    August 23, 2024   \n",
       "7  E.N Wafula, Chair, Jephthah Njagi, E Ng'ang'a ...    August 23, 2024   \n",
       "8  E.N Wafula, Chair, Cynthia B. Mayaka, RO Oluoc...     August 9, 2024   \n",
       "9  E.N Wafula, Chair, RO Oluoch, AK Kiprotich, Cy...     August 9, 2024   \n",
       "\n",
       "   type_of_court  \n",
       "0            NaN  \n",
       "1            NaN  \n",
       "2            NaN  \n",
       "3            NaN  \n",
       "4            NaN  \n",
       "5            NaN  \n",
       "6            NaN  \n",
       "7            NaN  \n",
       "8            NaN  \n",
       "9            NaN  "
      ]
     },
     "execution_count": 5,
     "metadata": {},
     "output_type": "execute_result"
    }
   ],
   "source": [
    "df.head(10)"
   ]
  },
  {
   "cell_type": "code",
   "execution_count": 6,
   "metadata": {},
   "outputs": [
    {
     "data": {
      "text/plain": [
       "Index(['Case_Number', 'Full_Text', 'Title', 'Docket_No', 'Judges', 'Date',\n",
       "       'type_of_court'],\n",
       "      dtype='object')"
      ]
     },
     "execution_count": 6,
     "metadata": {},
     "output_type": "execute_result"
    }
   ],
   "source": [
    "df.columns"
   ]
  },
  {
   "cell_type": "code",
   "execution_count": 10,
   "metadata": {},
   "outputs": [
    {
     "data": {
      "text/plain": [
       "(100, 7)"
      ]
     },
     "execution_count": 10,
     "metadata": {},
     "output_type": "execute_result"
    }
   ],
   "source": [
    "df.shape"
   ]
  },
  {
   "cell_type": "code",
   "execution_count": 7,
   "metadata": {},
   "outputs": [
    {
     "data": {
      "text/plain": [
       "Case_Number        0\n",
       "Full_Text          3\n",
       "Title              3\n",
       "Docket_No          3\n",
       "Judges             3\n",
       "Date               3\n",
       "type_of_court    100\n",
       "dtype: int64"
      ]
     },
     "execution_count": 7,
     "metadata": {},
     "output_type": "execute_result"
    }
   ],
   "source": [
    "df.isnull().sum()"
   ]
  },
  {
   "cell_type": "code",
   "execution_count": 11,
   "metadata": {},
   "outputs": [
    {
     "data": {
      "text/plain": [
       "3"
      ]
     },
     "execution_count": 11,
     "metadata": {},
     "output_type": "execute_result"
    }
   ],
   "source": [
    "df['Full_Text'].isnull().sum()"
   ]
  },
  {
   "cell_type": "code",
   "execution_count": 16,
   "metadata": {},
   "outputs": [],
   "source": [
    "df['Full_Text'] = df['Full_Text'].fillna(\"Unknown\")\n"
   ]
  },
  {
   "cell_type": "markdown",
   "metadata": {},
   "source": [
    "In 100 row entries, 3 were empty. I decided to fill the empty ones with unknown though I have not finalized on it, I might get back to it by removing the missing ones if an error will occur. "
   ]
  },
  {
   "cell_type": "code",
   "execution_count": 19,
   "metadata": {},
   "outputs": [],
   "source": [
    "df['Title'] = df['Title'].fillna(\"Unknown\")\n",
    "df['Docket_No'] = df['Docket_No'].fillna(\"Unknown\")\n",
    "df['Judges'] = df['Judges'].fillna(\"Unknown\")\n",
    "df['Date'] = df['Date'].fillna(\"Unknown\")"
   ]
  },
  {
   "cell_type": "code",
   "execution_count": 17,
   "metadata": {},
   "outputs": [
    {
     "data": {
      "text/plain": [
       "0"
      ]
     },
     "execution_count": 17,
     "metadata": {},
     "output_type": "execute_result"
    }
   ],
   "source": [
    "df['Full_Text'].isnull().sum()"
   ]
  },
  {
   "cell_type": "code",
   "execution_count": 21,
   "metadata": {},
   "outputs": [],
   "source": [
    "df1= df.dropna(subset=['type_of_court'])"
   ]
  },
  {
   "cell_type": "code",
   "execution_count": 22,
   "metadata": {},
   "outputs": [
    {
     "data": {
      "text/plain": [
       "Case_Number      0\n",
       "Full_Text        0\n",
       "Title            0\n",
       "Docket_No        0\n",
       "Judges           0\n",
       "Date             0\n",
       "type_of_court    0\n",
       "dtype: int64"
      ]
     },
     "execution_count": 22,
     "metadata": {},
     "output_type": "execute_result"
    }
   ],
   "source": [
    "df1.isnull().sum()"
   ]
  },
  {
   "cell_type": "code",
   "execution_count": null,
   "metadata": {},
   "outputs": [],
   "source": []
  }
 ],
 "metadata": {
  "kernelspec": {
   "display_name": "Python 3",
   "language": "python",
   "name": "python3"
  },
  "language_info": {
   "codemirror_mode": {
    "name": "ipython",
    "version": 3
   },
   "file_extension": ".py",
   "mimetype": "text/x-python",
   "name": "python",
   "nbconvert_exporter": "python",
   "pygments_lexer": "ipython3",
   "version": "3.10.12"
  }
 },
 "nbformat": 4,
 "nbformat_minor": 2
}
