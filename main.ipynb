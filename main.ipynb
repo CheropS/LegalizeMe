{
 "cells": [
  {
   "cell_type": "code",
   "execution_count": 2,
   "metadata": {},
   "outputs": [],
   "source": [
    "import pandas as pd\n",
    "import numpy as np\n",
    "import re\n",
    "import nltk\n",
    "from nltk.corpus import stopwords\n",
    "from nltk.tokenize import word_tokenize\n",
    "from nltk.stem import WordNetLemmatizer\n"
   ]
  },
  {
   "cell_type": "code",
   "execution_count": 3,
   "metadata": {},
   "outputs": [
    {
     "name": "stderr",
     "output_type": "stream",
     "text": [
      "[nltk_data] Downloading package punkt to /home/sharry/nltk_data...\n",
      "[nltk_data]   Unzipping tokenizers/punkt.zip.\n",
      "[nltk_data] Downloading package stopwords to /home/sharry/nltk_data...\n",
      "[nltk_data]   Unzipping corpora/stopwords.zip.\n",
      "[nltk_data] Downloading package wordnet to /home/sharry/nltk_data...\n"
     ]
    },
    {
     "data": {
      "text/plain": [
       "True"
      ]
     },
     "execution_count": 3,
     "metadata": {},
     "output_type": "execute_result"
    }
   ],
   "source": [
    "nltk.download('punkt')\n",
    "nltk.download('stopwords')\n",
    "nltk.download('wordnet')\n"
   ]
  },
  {
   "cell_type": "code",
   "execution_count": 4,
   "metadata": {},
   "outputs": [],
   "source": [
    "df = pd.read_csv('cases_data.csv')\n"
   ]
  },
  {
   "cell_type": "markdown",
   "metadata": {},
   "source": [
    "## Exploring the Dataset"
   ]
  },
  {
   "cell_type": "code",
   "execution_count": 5,
   "metadata": {},
   "outputs": [
    {
     "data": {
      "text/html": [
       "<div>\n",
       "<style scoped>\n",
       "    .dataframe tbody tr th:only-of-type {\n",
       "        vertical-align: middle;\n",
       "    }\n",
       "\n",
       "    .dataframe tbody tr th {\n",
       "        vertical-align: top;\n",
       "    }\n",
       "\n",
       "    .dataframe thead th {\n",
       "        text-align: right;\n",
       "    }\n",
       "</style>\n",
       "<table border=\"1\" class=\"dataframe\">\n",
       "  <thead>\n",
       "    <tr style=\"text-align: right;\">\n",
       "      <th></th>\n",
       "      <th>Case Number</th>\n",
       "      <th>Parties</th>\n",
       "      <th>Date Delivered</th>\n",
       "      <th>Court</th>\n",
       "      <th>Case Action</th>\n",
       "      <th>Judge(s)</th>\n",
       "      <th>Citation</th>\n",
       "      <th>County</th>\n",
       "      <th>Full Text</th>\n",
       "    </tr>\n",
       "  </thead>\n",
       "  <tbody>\n",
       "    <tr>\n",
       "      <th>0</th>\n",
       "      <td>Cause 28 of 2020</td>\n",
       "      <td>Chelagat v Kabarak University</td>\n",
       "      <td>04 Jul 2024</td>\n",
       "      <td>Employment and Labour Relations Court at Nakuru</td>\n",
       "      <td>Ruling</td>\n",
       "      <td>David Njagi Nderitu</td>\n",
       "      <td>Chelagat v Kabarak University (Cause 28 of 202...</td>\n",
       "      <td>Nakuru</td>\n",
       "      <td>Chelagat v Kabarak University (Cause 28 of 202...</td>\n",
       "    </tr>\n",
       "    <tr>\n",
       "      <th>1</th>\n",
       "      <td>Tribunal Case 308 &amp; 309 of 2020 (Consolidated)</td>\n",
       "      <td>Alwy &amp; another v Engroup (K) International Lim...</td>\n",
       "      <td>27 Aug 2024</td>\n",
       "      <td>Business Premises Rent Tribunal</td>\n",
       "      <td>Ruling</td>\n",
       "      <td>A Muma</td>\n",
       "      <td>Alwy &amp; another v Engroup (K) International Lim...</td>\n",
       "      <td>Nairobi</td>\n",
       "      <td>Alwy &amp; another v Engroup (K) International Lim...</td>\n",
       "    </tr>\n",
       "    <tr>\n",
       "      <th>2</th>\n",
       "      <td>Civil Case E001 of 2024</td>\n",
       "      <td>Ajiba v Manya</td>\n",
       "      <td>05 Sep 2024</td>\n",
       "      <td>High Court at Busia</td>\n",
       "      <td>Ruling</td>\n",
       "      <td>William Musya Musyoka</td>\n",
       "      <td>Ajiba v Manya (Civil Case E001 of 2024) [2024]...</td>\n",
       "      <td>Busia</td>\n",
       "      <td>Ajiba v Manya (Civil Case E001 of 2024) [2024]...</td>\n",
       "    </tr>\n",
       "    <tr>\n",
       "      <th>3</th>\n",
       "      <td>Tribunal Case E592 of 2024</td>\n",
       "      <td>Sharif v Munyoki t/a Kauma Hardware</td>\n",
       "      <td>29 Aug 2024</td>\n",
       "      <td>Business Premises Rent Tribunal</td>\n",
       "      <td>Ruling</td>\n",
       "      <td>A Muma</td>\n",
       "      <td>Sharif v Munyoki t/a Kauma Hardware (Tribunal ...</td>\n",
       "      <td>Nairobi</td>\n",
       "      <td>Sharif v Munyoki t/a Kauma Hardware (Tribunal ...</td>\n",
       "    </tr>\n",
       "    <tr>\n",
       "      <th>4</th>\n",
       "      <td>Tribunal Case E742 of 2021</td>\n",
       "      <td>Kamau t/a Victory Choma Roast v Kinyanjui; Mwa...</td>\n",
       "      <td>27 Sep 2023</td>\n",
       "      <td>Business Premises Rent Tribunal</td>\n",
       "      <td>Ruling</td>\n",
       "      <td>A Muma</td>\n",
       "      <td>Kamau t/a Victory Choma Roast v Kinyanjui; Mwa...</td>\n",
       "      <td>Nairobi</td>\n",
       "      <td>Kamau t/a Victory Choma Roast v Kinyanjui; Mwa...</td>\n",
       "    </tr>\n",
       "  </tbody>\n",
       "</table>\n",
       "</div>"
      ],
      "text/plain": [
       "                                      Case Number  \\\n",
       "0                                Cause 28 of 2020   \n",
       "1  Tribunal Case 308 & 309 of 2020 (Consolidated)   \n",
       "2                         Civil Case E001 of 2024   \n",
       "3                      Tribunal Case E592 of 2024   \n",
       "4                      Tribunal Case E742 of 2021   \n",
       "\n",
       "                                             Parties Date Delivered  \\\n",
       "0                      Chelagat v Kabarak University    04 Jul 2024   \n",
       "1  Alwy & another v Engroup (K) International Lim...    27 Aug 2024   \n",
       "2                                      Ajiba v Manya    05 Sep 2024   \n",
       "3                Sharif v Munyoki t/a Kauma Hardware    29 Aug 2024   \n",
       "4  Kamau t/a Victory Choma Roast v Kinyanjui; Mwa...    27 Sep 2023   \n",
       "\n",
       "                                             Court Case Action  \\\n",
       "0  Employment and Labour Relations Court at Nakuru      Ruling   \n",
       "1                  Business Premises Rent Tribunal      Ruling   \n",
       "2                              High Court at Busia      Ruling   \n",
       "3                  Business Premises Rent Tribunal      Ruling   \n",
       "4                  Business Premises Rent Tribunal      Ruling   \n",
       "\n",
       "                Judge(s)                                           Citation  \\\n",
       "0    David Njagi Nderitu  Chelagat v Kabarak University (Cause 28 of 202...   \n",
       "1                 A Muma  Alwy & another v Engroup (K) International Lim...   \n",
       "2  William Musya Musyoka  Ajiba v Manya (Civil Case E001 of 2024) [2024]...   \n",
       "3                 A Muma  Sharif v Munyoki t/a Kauma Hardware (Tribunal ...   \n",
       "4                 A Muma  Kamau t/a Victory Choma Roast v Kinyanjui; Mwa...   \n",
       "\n",
       "    County                                          Full Text  \n",
       "0   Nakuru  Chelagat v Kabarak University (Cause 28 of 202...  \n",
       "1  Nairobi  Alwy & another v Engroup (K) International Lim...  \n",
       "2    Busia  Ajiba v Manya (Civil Case E001 of 2024) [2024]...  \n",
       "3  Nairobi  Sharif v Munyoki t/a Kauma Hardware (Tribunal ...  \n",
       "4  Nairobi  Kamau t/a Victory Choma Roast v Kinyanjui; Mwa...  "
      ]
     },
     "execution_count": 5,
     "metadata": {},
     "output_type": "execute_result"
    }
   ],
   "source": [
    "df.head()"
   ]
  },
  {
   "cell_type": "code",
   "execution_count": 6,
   "metadata": {},
   "outputs": [
    {
     "name": "stdout",
     "output_type": "stream",
     "text": [
      "<class 'pandas.core.frame.DataFrame'>\n",
      "RangeIndex: 115 entries, 0 to 114\n",
      "Data columns (total 9 columns):\n",
      " #   Column          Non-Null Count  Dtype \n",
      "---  ------          --------------  ----- \n",
      " 0   Case Number     115 non-null    object\n",
      " 1   Parties         115 non-null    object\n",
      " 2   Date Delivered  115 non-null    object\n",
      " 3   Court           109 non-null    object\n",
      " 4   Case Action     115 non-null    object\n",
      " 5   Judge(s)        115 non-null    object\n",
      " 6   Citation        114 non-null    object\n",
      " 7   County          115 non-null    object\n",
      " 8   Full Text       115 non-null    object\n",
      "dtypes: object(9)\n",
      "memory usage: 8.2+ KB\n"
     ]
    }
   ],
   "source": [
    "df.info()"
   ]
  },
  {
   "cell_type": "code",
   "execution_count": 8,
   "metadata": {},
   "outputs": [
    {
     "data": {
      "text/plain": [
       "Case Number       0\n",
       "Parties           0\n",
       "Date Delivered    0\n",
       "Court             6\n",
       "Case Action       0\n",
       "Judge(s)          0\n",
       "Citation          1\n",
       "County            0\n",
       "Full Text         0\n",
       "dtype: int64"
      ]
     },
     "execution_count": 8,
     "metadata": {},
     "output_type": "execute_result"
    }
   ],
   "source": [
    "df.isnull().sum()"
   ]
  },
  {
   "cell_type": "markdown",
   "metadata": {},
   "source": [
    "## Filling missing values\n",
    "Filling missing values in Court and Citation columns with \"unknown\" value"
   ]
  },
  {
   "cell_type": "code",
   "execution_count": 9,
   "metadata": {},
   "outputs": [
    {
     "name": "stderr",
     "output_type": "stream",
     "text": [
      "/tmp/ipykernel_16884/2771425069.py:2: FutureWarning: A value is trying to be set on a copy of a DataFrame or Series through chained assignment using an inplace method.\n",
      "The behavior will change in pandas 3.0. This inplace method will never work because the intermediate object on which we are setting values always behaves as a copy.\n",
      "\n",
      "For example, when doing 'df[col].method(value, inplace=True)', try using 'df.method({col: value}, inplace=True)' or df[col] = df[col].method(value) instead, to perform the operation inplace on the original object.\n",
      "\n",
      "\n",
      "  df['Court'].fillna('Unknown', inplace=True)\n"
     ]
    }
   ],
   "source": [
    "# Fill missing categorical/text values with 'Unknown'\n",
    "df['Court'].fillna('Unknown', inplace=True)"
   ]
  },
  {
   "cell_type": "code",
   "execution_count": 10,
   "metadata": {},
   "outputs": [
    {
     "name": "stderr",
     "output_type": "stream",
     "text": [
      "/tmp/ipykernel_16884/1759336163.py:2: FutureWarning: A value is trying to be set on a copy of a DataFrame or Series through chained assignment using an inplace method.\n",
      "The behavior will change in pandas 3.0. This inplace method will never work because the intermediate object on which we are setting values always behaves as a copy.\n",
      "\n",
      "For example, when doing 'df[col].method(value, inplace=True)', try using 'df.method({col: value}, inplace=True)' or df[col] = df[col].method(value) instead, to perform the operation inplace on the original object.\n",
      "\n",
      "\n",
      "  df['Citation'].fillna('Unknown', inplace=True)\n"
     ]
    }
   ],
   "source": [
    "# Fill missing categorical/text values with 'Unknown'\n",
    "df['Citation'].fillna('Unknown', inplace=True)"
   ]
  },
  {
   "cell_type": "code",
   "execution_count": 11,
   "metadata": {},
   "outputs": [
    {
     "data": {
      "text/plain": [
       "Case Number       0\n",
       "Parties           0\n",
       "Date Delivered    0\n",
       "Court             0\n",
       "Case Action       0\n",
       "Judge(s)          0\n",
       "Citation          0\n",
       "County            0\n",
       "Full Text         0\n",
       "dtype: int64"
      ]
     },
     "execution_count": 11,
     "metadata": {},
     "output_type": "execute_result"
    }
   ],
   "source": [
    "#Checking to see if there are empty cells again \n",
    "df.isnull().sum()"
   ]
  },
  {
   "cell_type": "markdown",
   "metadata": {},
   "source": [
    "### Text data cleaning"
   ]
  },
  {
   "cell_type": "code",
   "execution_count": null,
   "metadata": {},
   "outputs": [],
   "source": []
  }
 ],
 "metadata": {
  "kernelspec": {
   "display_name": "Python 3",
   "language": "python",
   "name": "python3"
  },
  "language_info": {
   "codemirror_mode": {
    "name": "ipython",
    "version": 3
   },
   "file_extension": ".py",
   "mimetype": "text/x-python",
   "name": "python",
   "nbconvert_exporter": "python",
   "pygments_lexer": "ipython3",
   "version": "3.10.12"
  }
 },
 "nbformat": 4,
 "nbformat_minor": 2
}
