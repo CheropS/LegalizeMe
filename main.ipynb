{
 "cells": [
  {
   "cell_type": "code",
   "execution_count": 87,
   "metadata": {},
   "outputs": [],
   "source": [
    "import pandas as pd\n",
    "import numpy as np\n",
    "import re\n",
    "import nltk\n",
    "from nltk.corpus import stopwords\n",
    "from nltk.tokenize import word_tokenize\n",
    "from nltk.stem import WordNetLemmatizer\n"
   ]
  },
  {
   "cell_type": "code",
   "execution_count": 88,
   "metadata": {},
   "outputs": [
    {
     "name": "stderr",
     "output_type": "stream",
     "text": [
      "[nltk_data] Downloading package punkt to /home/sharry/nltk_data...\n",
      "[nltk_data]   Package punkt is already up-to-date!\n",
      "[nltk_data] Downloading package stopwords to /home/sharry/nltk_data...\n",
      "[nltk_data]   Package stopwords is already up-to-date!\n",
      "[nltk_data] Downloading package wordnet to /home/sharry/nltk_data...\n",
      "[nltk_data]   Package wordnet is already up-to-date!\n"
     ]
    },
    {
     "data": {
      "text/plain": [
       "True"
      ]
     },
     "execution_count": 88,
     "metadata": {},
     "output_type": "execute_result"
    }
   ],
   "source": [
    "nltk.download('punkt')\n",
    "nltk.download('stopwords')\n",
    "nltk.download('wordnet')\n",
    "\n"
   ]
  },
  {
   "cell_type": "code",
   "execution_count": 89,
   "metadata": {},
   "outputs": [
    {
     "data": {
      "text/plain": [
       "FileSystemPathPointer('/home/sharry/nltk_data/tokenizers/punkt')"
      ]
     },
     "execution_count": 89,
     "metadata": {},
     "output_type": "execute_result"
    }
   ],
   "source": [
    "nltk.data.find('tokenizers/punkt')"
   ]
  },
  {
   "cell_type": "code",
   "execution_count": 101,
   "metadata": {},
   "outputs": [
    {
     "name": "stdout",
     "output_type": "stream",
     "text": [
      "/home/sharry/nltk_data/tokenizers/punkt/english.pickle\n"
     ]
    }
   ],
   "source": [
    "from nltk.data import find\n",
    "print(find('tokenizers/punkt/english.pickle'))\n"
   ]
  },
  {
   "cell_type": "code",
   "execution_count": 90,
   "metadata": {},
   "outputs": [],
   "source": [
    "df = pd.read_csv('cases_data.csv')\n"
   ]
  },
  {
   "cell_type": "markdown",
   "metadata": {},
   "source": [
    "## Exploring the Dataset"
   ]
  },
  {
   "cell_type": "code",
   "execution_count": 91,
   "metadata": {},
   "outputs": [
    {
     "data": {
      "text/html": [
       "<div>\n",
       "<style scoped>\n",
       "    .dataframe tbody tr th:only-of-type {\n",
       "        vertical-align: middle;\n",
       "    }\n",
       "\n",
       "    .dataframe tbody tr th {\n",
       "        vertical-align: top;\n",
       "    }\n",
       "\n",
       "    .dataframe thead th {\n",
       "        text-align: right;\n",
       "    }\n",
       "</style>\n",
       "<table border=\"1\" class=\"dataframe\">\n",
       "  <thead>\n",
       "    <tr style=\"text-align: right;\">\n",
       "      <th></th>\n",
       "      <th>Case Number</th>\n",
       "      <th>Parties</th>\n",
       "      <th>Date Delivered</th>\n",
       "      <th>Court</th>\n",
       "      <th>Case Action</th>\n",
       "      <th>Judge(s)</th>\n",
       "      <th>Citation</th>\n",
       "      <th>County</th>\n",
       "      <th>Full Text</th>\n",
       "    </tr>\n",
       "  </thead>\n",
       "  <tbody>\n",
       "    <tr>\n",
       "      <th>0</th>\n",
       "      <td>Cause 28 of 2020</td>\n",
       "      <td>Chelagat v Kabarak University</td>\n",
       "      <td>04 Jul 2024</td>\n",
       "      <td>Employment and Labour Relations Court at Nakuru</td>\n",
       "      <td>Ruling</td>\n",
       "      <td>David Njagi Nderitu</td>\n",
       "      <td>Chelagat v Kabarak University (Cause 28 of 202...</td>\n",
       "      <td>Nakuru</td>\n",
       "      <td>Chelagat v Kabarak University (Cause 28 of 202...</td>\n",
       "    </tr>\n",
       "    <tr>\n",
       "      <th>1</th>\n",
       "      <td>Tribunal Case 308 &amp; 309 of 2020 (Consolidated)</td>\n",
       "      <td>Alwy &amp; another v Engroup (K) International Lim...</td>\n",
       "      <td>27 Aug 2024</td>\n",
       "      <td>Business Premises Rent Tribunal</td>\n",
       "      <td>Ruling</td>\n",
       "      <td>A Muma</td>\n",
       "      <td>Alwy &amp; another v Engroup (K) International Lim...</td>\n",
       "      <td>Nairobi</td>\n",
       "      <td>Alwy &amp; another v Engroup (K) International Lim...</td>\n",
       "    </tr>\n",
       "    <tr>\n",
       "      <th>2</th>\n",
       "      <td>Civil Case E001 of 2024</td>\n",
       "      <td>Ajiba v Manya</td>\n",
       "      <td>05 Sep 2024</td>\n",
       "      <td>High Court at Busia</td>\n",
       "      <td>Ruling</td>\n",
       "      <td>William Musya Musyoka</td>\n",
       "      <td>Ajiba v Manya (Civil Case E001 of 2024) [2024]...</td>\n",
       "      <td>Busia</td>\n",
       "      <td>Ajiba v Manya (Civil Case E001 of 2024) [2024]...</td>\n",
       "    </tr>\n",
       "    <tr>\n",
       "      <th>3</th>\n",
       "      <td>Tribunal Case E592 of 2024</td>\n",
       "      <td>Sharif v Munyoki t/a Kauma Hardware</td>\n",
       "      <td>29 Aug 2024</td>\n",
       "      <td>Business Premises Rent Tribunal</td>\n",
       "      <td>Ruling</td>\n",
       "      <td>A Muma</td>\n",
       "      <td>Sharif v Munyoki t/a Kauma Hardware (Tribunal ...</td>\n",
       "      <td>Nairobi</td>\n",
       "      <td>Sharif v Munyoki t/a Kauma Hardware (Tribunal ...</td>\n",
       "    </tr>\n",
       "    <tr>\n",
       "      <th>4</th>\n",
       "      <td>Tribunal Case E742 of 2021</td>\n",
       "      <td>Kamau t/a Victory Choma Roast v Kinyanjui; Mwa...</td>\n",
       "      <td>27 Sep 2023</td>\n",
       "      <td>Business Premises Rent Tribunal</td>\n",
       "      <td>Ruling</td>\n",
       "      <td>A Muma</td>\n",
       "      <td>Kamau t/a Victory Choma Roast v Kinyanjui; Mwa...</td>\n",
       "      <td>Nairobi</td>\n",
       "      <td>Kamau t/a Victory Choma Roast v Kinyanjui; Mwa...</td>\n",
       "    </tr>\n",
       "  </tbody>\n",
       "</table>\n",
       "</div>"
      ],
      "text/plain": [
       "                                      Case Number  \\\n",
       "0                                Cause 28 of 2020   \n",
       "1  Tribunal Case 308 & 309 of 2020 (Consolidated)   \n",
       "2                         Civil Case E001 of 2024   \n",
       "3                      Tribunal Case E592 of 2024   \n",
       "4                      Tribunal Case E742 of 2021   \n",
       "\n",
       "                                             Parties Date Delivered  \\\n",
       "0                      Chelagat v Kabarak University    04 Jul 2024   \n",
       "1  Alwy & another v Engroup (K) International Lim...    27 Aug 2024   \n",
       "2                                      Ajiba v Manya    05 Sep 2024   \n",
       "3                Sharif v Munyoki t/a Kauma Hardware    29 Aug 2024   \n",
       "4  Kamau t/a Victory Choma Roast v Kinyanjui; Mwa...    27 Sep 2023   \n",
       "\n",
       "                                             Court Case Action  \\\n",
       "0  Employment and Labour Relations Court at Nakuru      Ruling   \n",
       "1                  Business Premises Rent Tribunal      Ruling   \n",
       "2                              High Court at Busia      Ruling   \n",
       "3                  Business Premises Rent Tribunal      Ruling   \n",
       "4                  Business Premises Rent Tribunal      Ruling   \n",
       "\n",
       "                Judge(s)                                           Citation  \\\n",
       "0    David Njagi Nderitu  Chelagat v Kabarak University (Cause 28 of 202...   \n",
       "1                 A Muma  Alwy & another v Engroup (K) International Lim...   \n",
       "2  William Musya Musyoka  Ajiba v Manya (Civil Case E001 of 2024) [2024]...   \n",
       "3                 A Muma  Sharif v Munyoki t/a Kauma Hardware (Tribunal ...   \n",
       "4                 A Muma  Kamau t/a Victory Choma Roast v Kinyanjui; Mwa...   \n",
       "\n",
       "    County                                          Full Text  \n",
       "0   Nakuru  Chelagat v Kabarak University (Cause 28 of 202...  \n",
       "1  Nairobi  Alwy & another v Engroup (K) International Lim...  \n",
       "2    Busia  Ajiba v Manya (Civil Case E001 of 2024) [2024]...  \n",
       "3  Nairobi  Sharif v Munyoki t/a Kauma Hardware (Tribunal ...  \n",
       "4  Nairobi  Kamau t/a Victory Choma Roast v Kinyanjui; Mwa...  "
      ]
     },
     "execution_count": 91,
     "metadata": {},
     "output_type": "execute_result"
    }
   ],
   "source": [
    "df.head()"
   ]
  },
  {
   "cell_type": "code",
   "execution_count": 92,
   "metadata": {},
   "outputs": [
    {
     "name": "stdout",
     "output_type": "stream",
     "text": [
      "<class 'pandas.core.frame.DataFrame'>\n",
      "RangeIndex: 116 entries, 0 to 115\n",
      "Data columns (total 9 columns):\n",
      " #   Column          Non-Null Count  Dtype \n",
      "---  ------          --------------  ----- \n",
      " 0   Case Number     116 non-null    object\n",
      " 1   Parties         116 non-null    object\n",
      " 2   Date Delivered  116 non-null    object\n",
      " 3   Court           110 non-null    object\n",
      " 4   Case Action     116 non-null    object\n",
      " 5   Judge(s)        116 non-null    object\n",
      " 6   Citation        115 non-null    object\n",
      " 7   County          116 non-null    object\n",
      " 8   Full Text       116 non-null    object\n",
      "dtypes: object(9)\n",
      "memory usage: 8.3+ KB\n"
     ]
    }
   ],
   "source": [
    "df.info()"
   ]
  },
  {
   "cell_type": "code",
   "execution_count": 93,
   "metadata": {},
   "outputs": [
    {
     "data": {
      "text/plain": [
       "Case Number       0\n",
       "Parties           0\n",
       "Date Delivered    0\n",
       "Court             6\n",
       "Case Action       0\n",
       "Judge(s)          0\n",
       "Citation          1\n",
       "County            0\n",
       "Full Text         0\n",
       "dtype: int64"
      ]
     },
     "execution_count": 93,
     "metadata": {},
     "output_type": "execute_result"
    }
   ],
   "source": [
    "df.isnull().sum()"
   ]
  },
  {
   "cell_type": "markdown",
   "metadata": {},
   "source": [
    "## Filling missing values\n",
    "Filling missing values in Court and Citation columns with \"unknown\" value"
   ]
  },
  {
   "cell_type": "code",
   "execution_count": 94,
   "metadata": {},
   "outputs": [
    {
     "name": "stderr",
     "output_type": "stream",
     "text": [
      "/tmp/ipykernel_16884/2771425069.py:2: FutureWarning: A value is trying to be set on a copy of a DataFrame or Series through chained assignment using an inplace method.\n",
      "The behavior will change in pandas 3.0. This inplace method will never work because the intermediate object on which we are setting values always behaves as a copy.\n",
      "\n",
      "For example, when doing 'df[col].method(value, inplace=True)', try using 'df.method({col: value}, inplace=True)' or df[col] = df[col].method(value) instead, to perform the operation inplace on the original object.\n",
      "\n",
      "\n",
      "  df['Court'].fillna('Unknown', inplace=True)\n"
     ]
    }
   ],
   "source": [
    "# Fill missing categorical/text values with 'Unknown'\n",
    "df['Court'].fillna('Unknown', inplace=True)"
   ]
  },
  {
   "cell_type": "code",
   "execution_count": 95,
   "metadata": {},
   "outputs": [
    {
     "name": "stderr",
     "output_type": "stream",
     "text": [
      "/tmp/ipykernel_16884/1759336163.py:2: FutureWarning: A value is trying to be set on a copy of a DataFrame or Series through chained assignment using an inplace method.\n",
      "The behavior will change in pandas 3.0. This inplace method will never work because the intermediate object on which we are setting values always behaves as a copy.\n",
      "\n",
      "For example, when doing 'df[col].method(value, inplace=True)', try using 'df.method({col: value}, inplace=True)' or df[col] = df[col].method(value) instead, to perform the operation inplace on the original object.\n",
      "\n",
      "\n",
      "  df['Citation'].fillna('Unknown', inplace=True)\n"
     ]
    }
   ],
   "source": [
    "# Fill missing categorical/text values with 'Unknown'\n",
    "df['Citation'].fillna('Unknown', inplace=True)"
   ]
  },
  {
   "cell_type": "code",
   "execution_count": 96,
   "metadata": {},
   "outputs": [
    {
     "data": {
      "text/plain": [
       "Case Number       0\n",
       "Parties           0\n",
       "Date Delivered    0\n",
       "Court             0\n",
       "Case Action       0\n",
       "Judge(s)          0\n",
       "Citation          0\n",
       "County            0\n",
       "Full Text         0\n",
       "dtype: int64"
      ]
     },
     "execution_count": 96,
     "metadata": {},
     "output_type": "execute_result"
    }
   ],
   "source": [
    "#Checking to see if there are empty cells again \n",
    "df.isnull().sum()"
   ]
  },
  {
   "cell_type": "markdown",
   "metadata": {},
   "source": [
    "### Text data cleaning removing 'stop words'"
   ]
  },
  {
   "cell_type": "code",
   "execution_count": 97,
   "metadata": {},
   "outputs": [],
   "source": [
    "lemmatizer = WordNetLemmatizer()\n",
    "\n",
    "\n"
   ]
  },
  {
   "cell_type": "code",
   "execution_count": 98,
   "metadata": {},
   "outputs": [],
   "source": [
    "def lemmatize_text(text):\n",
    "    tokens = word_tokenize(text)\n",
    "    lemmatized_words = [lemmatizer.lemmatize(word) for word in tokens]\n",
    "    return ' '.join(lemmatized_words)\n",
    "\n"
   ]
  },
  {
   "cell_type": "code",
   "execution_count": 103,
   "metadata": {},
   "outputs": [],
   "source": [
    "#df['Full Text'] = df['Full Text'].apply(lemmatize_text)"
   ]
  },
  {
   "cell_type": "code",
   "execution_count": 104,
   "metadata": {},
   "outputs": [],
   "source": [
    "# Convert 'county' column to categorical\n",
    "df['County'] = df['County'].astype('category')"
   ]
  },
  {
   "cell_type": "code",
   "execution_count": 105,
   "metadata": {},
   "outputs": [
    {
     "name": "stdout",
     "output_type": "stream",
     "text": [
      "                                        Case Number  \\\n",
      "0                                  Cause 28 of 2020   \n",
      "1    Tribunal Case 308 & 309 of 2020 (Consolidated)   \n",
      "2                           Civil Case E001 of 2024   \n",
      "3                        Tribunal Case E592 of 2024   \n",
      "4                        Tribunal Case E742 of 2021   \n",
      "..                                              ...   \n",
      "111                      Criminal Appeal 18 of 2018   \n",
      "112                     Criminal Appeal 196 of 2017   \n",
      "113                  Civil Application E220 of 2022   \n",
      "114                    Succession Cause 104 of 2017   \n",
      "115                  Succession Cause E1085 of 2021   \n",
      "\n",
      "                                               Parties Date Delivered  \\\n",
      "0                        Chelagat v Kabarak University    04 Jul 2024   \n",
      "1    Alwy & another v Engroup (K) International Lim...    27 Aug 2024   \n",
      "2                                        Ajiba v Manya    05 Sep 2024   \n",
      "3                  Sharif v Munyoki t/a Kauma Hardware    29 Aug 2024   \n",
      "4    Kamau t/a Victory Choma Roast v Kinyanjui; Mwa...    27 Sep 2023   \n",
      "..                                                 ...            ...   \n",
      "111                                Abdallah v Republic    30 Aug 2024   \n",
      "112                                 Kifunyi v Republic    30 Aug 2024   \n",
      "113                  Sustainet Group Limited v Wanguhu    30 Aug 2024   \n",
      "114            In re Estate of Jonah Thumbi (Deceased)    28 Aug 2024   \n",
      "115  In re Estate of Mwangi Gichohi Wairagu alias S...    29 Aug 2024   \n",
      "\n",
      "                                               Court Case Action  \\\n",
      "0    Employment and Labour Relations Court at Nakuru      Ruling   \n",
      "1                    Business Premises Rent Tribunal      Ruling   \n",
      "2                                High Court at Busia      Ruling   \n",
      "3                    Business Premises Rent Tribunal      Ruling   \n",
      "4                    Business Premises Rent Tribunal      Ruling   \n",
      "..                                               ...         ...   \n",
      "111                        Court of Appeal at Kisumu    Judgment   \n",
      "112                        Court of Appeal at Kisumu    Judgment   \n",
      "113                        Court of Appeal at Kisumu      Ruling   \n",
      "114                             High Court at Kiambu      Ruling   \n",
      "115      High Court at Nairobi (Milimani Law Courts)      Ruling   \n",
      "\n",
      "                                              Judge(s)  \\\n",
      "0                                  David Njagi Nderitu   \n",
      "1                                               A Muma   \n",
      "2                                William Musya Musyoka   \n",
      "3                                               A Muma   \n",
      "4                                               A Muma   \n",
      "..                                                 ...   \n",
      "111  Hannah Magondi Okwengu, Hellen Amolo Omondi, J...   \n",
      "112  Hannah Magondi Okwengu, Hellen Amolo Omondi, J...   \n",
      "113  Hannah Magondi Okwengu, Hellen Amolo Omondi, J...   \n",
      "114                                     Abigail Mshila   \n",
      "115                                           H Namisi   \n",
      "\n",
      "                                              Citation   County  \\\n",
      "0    Chelagat v Kabarak University (Cause 28 of 202...   Nakuru   \n",
      "1    Alwy & another v Engroup (K) International Lim...  Nairobi   \n",
      "2    Ajiba v Manya (Civil Case E001 of 2024) [2024]...    Busia   \n",
      "3    Sharif v Munyoki t/a Kauma Hardware (Tribunal ...  Nairobi   \n",
      "4    Kamau t/a Victory Choma Roast v Kinyanjui; Mwa...  Nairobi   \n",
      "..                                                 ...      ...   \n",
      "111  Abdallah v Republic (Criminal Appeal 18 of 201...   Kisumu   \n",
      "112  Kifunyi v Republic (Criminal Appeal 196 of 201...   Kisumu   \n",
      "113  Sustainet Group Limited v Wanguhu (Civil Appli...   Kisumu   \n",
      "114  In re Estate of Jonah Thumbi (Deceased) (Succe...   Kiambu   \n",
      "115  In re Estate of Mwangi Gichohi Wairagu alias S...  Nairobi   \n",
      "\n",
      "                                             Full Text  \n",
      "0    Chelagat v Kabarak University (Cause 28 of 202...  \n",
      "1    Alwy & another v Engroup (K) International Lim...  \n",
      "2    Ajiba v Manya (Civil Case E001 of 2024) [2024]...  \n",
      "3    Sharif v Munyoki t/a Kauma Hardware (Tribunal ...  \n",
      "4    Kamau t/a Victory Choma Roast v Kinyanjui; Mwa...  \n",
      "..                                                 ...  \n",
      "111  Abdallah v Republic (Criminal Appeal 18 of 201...  \n",
      "112  Kifunyi v Republic (Criminal Appeal 196 of 201...  \n",
      "113  Sustainet Group Limited v Wanguhu (Civil Appli...  \n",
      "114  In re Estate of Jonah Thumbi (Deceased) (Succe...  \n",
      "115  In re Estate of Mwangi Gichohi Wairagu alias S...  \n",
      "\n",
      "[116 rows x 9 columns]\n"
     ]
    }
   ],
   "source": [
    "print(df)"
   ]
  },
  {
   "cell_type": "code",
   "execution_count": 107,
   "metadata": {},
   "outputs": [
    {
     "name": "stdout",
     "output_type": "stream",
     "text": [
      "Case Number         object\n",
      "Parties             object\n",
      "Date Delivered      object\n",
      "Court               object\n",
      "Case Action         object\n",
      "Judge(s)            object\n",
      "Citation            object\n",
      "County            category\n",
      "Full Text           object\n",
      "dtype: object\n"
     ]
    }
   ],
   "source": [
    "print(df.dtypes)"
   ]
  },
  {
   "cell_type": "code",
   "execution_count": 108,
   "metadata": {},
   "outputs": [
    {
     "data": {
      "text/html": [
       "<div>\n",
       "<style scoped>\n",
       "    .dataframe tbody tr th:only-of-type {\n",
       "        vertical-align: middle;\n",
       "    }\n",
       "\n",
       "    .dataframe tbody tr th {\n",
       "        vertical-align: top;\n",
       "    }\n",
       "\n",
       "    .dataframe thead th {\n",
       "        text-align: right;\n",
       "    }\n",
       "</style>\n",
       "<table border=\"1\" class=\"dataframe\">\n",
       "  <thead>\n",
       "    <tr style=\"text-align: right;\">\n",
       "      <th></th>\n",
       "      <th>Case Number</th>\n",
       "      <th>Parties</th>\n",
       "      <th>Date Delivered</th>\n",
       "      <th>Court</th>\n",
       "      <th>Case Action</th>\n",
       "      <th>Judge(s)</th>\n",
       "      <th>Citation</th>\n",
       "      <th>County</th>\n",
       "      <th>Full Text</th>\n",
       "    </tr>\n",
       "  </thead>\n",
       "  <tbody>\n",
       "    <tr>\n",
       "      <th>0</th>\n",
       "      <td>Cause 28 of 2020</td>\n",
       "      <td>Chelagat v Kabarak University</td>\n",
       "      <td>04 Jul 2024</td>\n",
       "      <td>Employment and Labour Relations Court at Nakuru</td>\n",
       "      <td>Ruling</td>\n",
       "      <td>David Njagi Nderitu</td>\n",
       "      <td>Chelagat v Kabarak University (Cause 28 of 202...</td>\n",
       "      <td>Nakuru</td>\n",
       "      <td>Chelagat v Kabarak University (Cause 28 of 202...</td>\n",
       "    </tr>\n",
       "    <tr>\n",
       "      <th>1</th>\n",
       "      <td>Tribunal Case 308 &amp; 309 of 2020 (Consolidated)</td>\n",
       "      <td>Alwy &amp; another v Engroup (K) International Lim...</td>\n",
       "      <td>27 Aug 2024</td>\n",
       "      <td>Business Premises Rent Tribunal</td>\n",
       "      <td>Ruling</td>\n",
       "      <td>A Muma</td>\n",
       "      <td>Alwy &amp; another v Engroup (K) International Lim...</td>\n",
       "      <td>Nairobi</td>\n",
       "      <td>Alwy &amp; another v Engroup (K) International Lim...</td>\n",
       "    </tr>\n",
       "    <tr>\n",
       "      <th>2</th>\n",
       "      <td>Civil Case E001 of 2024</td>\n",
       "      <td>Ajiba v Manya</td>\n",
       "      <td>05 Sep 2024</td>\n",
       "      <td>High Court at Busia</td>\n",
       "      <td>Ruling</td>\n",
       "      <td>William Musya Musyoka</td>\n",
       "      <td>Ajiba v Manya (Civil Case E001 of 2024) [2024]...</td>\n",
       "      <td>Busia</td>\n",
       "      <td>Ajiba v Manya (Civil Case E001 of 2024) [2024]...</td>\n",
       "    </tr>\n",
       "    <tr>\n",
       "      <th>3</th>\n",
       "      <td>Tribunal Case E592 of 2024</td>\n",
       "      <td>Sharif v Munyoki t/a Kauma Hardware</td>\n",
       "      <td>29 Aug 2024</td>\n",
       "      <td>Business Premises Rent Tribunal</td>\n",
       "      <td>Ruling</td>\n",
       "      <td>A Muma</td>\n",
       "      <td>Sharif v Munyoki t/a Kauma Hardware (Tribunal ...</td>\n",
       "      <td>Nairobi</td>\n",
       "      <td>Sharif v Munyoki t/a Kauma Hardware (Tribunal ...</td>\n",
       "    </tr>\n",
       "    <tr>\n",
       "      <th>4</th>\n",
       "      <td>Tribunal Case E742 of 2021</td>\n",
       "      <td>Kamau t/a Victory Choma Roast v Kinyanjui; Mwa...</td>\n",
       "      <td>27 Sep 2023</td>\n",
       "      <td>Business Premises Rent Tribunal</td>\n",
       "      <td>Ruling</td>\n",
       "      <td>A Muma</td>\n",
       "      <td>Kamau t/a Victory Choma Roast v Kinyanjui; Mwa...</td>\n",
       "      <td>Nairobi</td>\n",
       "      <td>Kamau t/a Victory Choma Roast v Kinyanjui; Mwa...</td>\n",
       "    </tr>\n",
       "    <tr>\n",
       "      <th>5</th>\n",
       "      <td>Tribunal Case E123 of 2024</td>\n",
       "      <td>Matheka v Monga</td>\n",
       "      <td>29 Aug 2024</td>\n",
       "      <td>Business Premises Rent Tribunal</td>\n",
       "      <td>Ruling</td>\n",
       "      <td>Joyce Osodo</td>\n",
       "      <td>Matheka v Monga (Tribunal Case E123 of 2024) [...</td>\n",
       "      <td>Nairobi</td>\n",
       "      <td>Matheka v Monga (Tribunal Case E123 of 2024) [...</td>\n",
       "    </tr>\n",
       "    <tr>\n",
       "      <th>6</th>\n",
       "      <td>Tribunal Case E551 of 2023</td>\n",
       "      <td>Chepkosi v Njambi</td>\n",
       "      <td>30 Aug 2024</td>\n",
       "      <td>Business Premises Rent Tribunal</td>\n",
       "      <td>Ruling</td>\n",
       "      <td>A Muma</td>\n",
       "      <td>Chepkosi v Njambi (Tribunal Case E551 of 2023)...</td>\n",
       "      <td>Nairobi</td>\n",
       "      <td>Chepkosi v Njambi (Tribunal Case E551 of 2023)...</td>\n",
       "    </tr>\n",
       "    <tr>\n",
       "      <th>7</th>\n",
       "      <td>Employment and Labour Relations Cause 331 of 2014</td>\n",
       "      <td>Mwangi v Family Bank Limited</td>\n",
       "      <td>04 Jul 2024</td>\n",
       "      <td>Employment and Labour Relations Court at Nakuru</td>\n",
       "      <td>Ruling</td>\n",
       "      <td>David Njagi Nderitu</td>\n",
       "      <td>Mwangi v Family Bank Limited (Employment and L...</td>\n",
       "      <td>Nakuru</td>\n",
       "      <td>Mwangi v Family Bank Limited (Employment and L...</td>\n",
       "    </tr>\n",
       "    <tr>\n",
       "      <th>8</th>\n",
       "      <td>Miscellaneous Application E011 of 2022</td>\n",
       "      <td>A S Kuloba &amp; Wangila Advocates v Walingo</td>\n",
       "      <td>04 Jul 2024</td>\n",
       "      <td>Employment and Labour Relations Court at Nakuru</td>\n",
       "      <td>Ruling</td>\n",
       "      <td>David Njagi Nderitu</td>\n",
       "      <td>A S Kuloba &amp; Wangila Advocates v Walingo (Misc...</td>\n",
       "      <td>Nakuru</td>\n",
       "      <td>A S Kuloba &amp; Wangila Advocates v Walingo (Misc...</td>\n",
       "    </tr>\n",
       "    <tr>\n",
       "      <th>9</th>\n",
       "      <td>Tribunal Case E079 of 2024</td>\n",
       "      <td>Colin Stuart t/a Little Bay Investment Ltd v Yego</td>\n",
       "      <td>29 Aug 2024</td>\n",
       "      <td>Business Premises Rent Tribunal</td>\n",
       "      <td>Ruling</td>\n",
       "      <td>A Muma</td>\n",
       "      <td>Colin Stuart t/a Little Bay Investment Ltd v Y...</td>\n",
       "      <td>Mombasa</td>\n",
       "      <td>Colin Stuart t/a Little Bay Investment Ltd v Y...</td>\n",
       "    </tr>\n",
       "  </tbody>\n",
       "</table>\n",
       "</div>"
      ],
      "text/plain": [
       "                                         Case Number  \\\n",
       "0                                   Cause 28 of 2020   \n",
       "1     Tribunal Case 308 & 309 of 2020 (Consolidated)   \n",
       "2                            Civil Case E001 of 2024   \n",
       "3                         Tribunal Case E592 of 2024   \n",
       "4                         Tribunal Case E742 of 2021   \n",
       "5                         Tribunal Case E123 of 2024   \n",
       "6                         Tribunal Case E551 of 2023   \n",
       "7  Employment and Labour Relations Cause 331 of 2014   \n",
       "8             Miscellaneous Application E011 of 2022   \n",
       "9                         Tribunal Case E079 of 2024   \n",
       "\n",
       "                                             Parties Date Delivered  \\\n",
       "0                      Chelagat v Kabarak University    04 Jul 2024   \n",
       "1  Alwy & another v Engroup (K) International Lim...    27 Aug 2024   \n",
       "2                                      Ajiba v Manya    05 Sep 2024   \n",
       "3                Sharif v Munyoki t/a Kauma Hardware    29 Aug 2024   \n",
       "4  Kamau t/a Victory Choma Roast v Kinyanjui; Mwa...    27 Sep 2023   \n",
       "5                                    Matheka v Monga    29 Aug 2024   \n",
       "6                                  Chepkosi v Njambi    30 Aug 2024   \n",
       "7                       Mwangi v Family Bank Limited    04 Jul 2024   \n",
       "8           A S Kuloba & Wangila Advocates v Walingo    04 Jul 2024   \n",
       "9  Colin Stuart t/a Little Bay Investment Ltd v Yego    29 Aug 2024   \n",
       "\n",
       "                                             Court Case Action  \\\n",
       "0  Employment and Labour Relations Court at Nakuru      Ruling   \n",
       "1                  Business Premises Rent Tribunal      Ruling   \n",
       "2                              High Court at Busia      Ruling   \n",
       "3                  Business Premises Rent Tribunal      Ruling   \n",
       "4                  Business Premises Rent Tribunal      Ruling   \n",
       "5                  Business Premises Rent Tribunal      Ruling   \n",
       "6                  Business Premises Rent Tribunal      Ruling   \n",
       "7  Employment and Labour Relations Court at Nakuru      Ruling   \n",
       "8  Employment and Labour Relations Court at Nakuru      Ruling   \n",
       "9                  Business Premises Rent Tribunal      Ruling   \n",
       "\n",
       "                Judge(s)                                           Citation  \\\n",
       "0    David Njagi Nderitu  Chelagat v Kabarak University (Cause 28 of 202...   \n",
       "1                 A Muma  Alwy & another v Engroup (K) International Lim...   \n",
       "2  William Musya Musyoka  Ajiba v Manya (Civil Case E001 of 2024) [2024]...   \n",
       "3                 A Muma  Sharif v Munyoki t/a Kauma Hardware (Tribunal ...   \n",
       "4                 A Muma  Kamau t/a Victory Choma Roast v Kinyanjui; Mwa...   \n",
       "5            Joyce Osodo  Matheka v Monga (Tribunal Case E123 of 2024) [...   \n",
       "6                 A Muma  Chepkosi v Njambi (Tribunal Case E551 of 2023)...   \n",
       "7    David Njagi Nderitu  Mwangi v Family Bank Limited (Employment and L...   \n",
       "8    David Njagi Nderitu  A S Kuloba & Wangila Advocates v Walingo (Misc...   \n",
       "9                 A Muma  Colin Stuart t/a Little Bay Investment Ltd v Y...   \n",
       "\n",
       "    County                                          Full Text  \n",
       "0   Nakuru  Chelagat v Kabarak University (Cause 28 of 202...  \n",
       "1  Nairobi  Alwy & another v Engroup (K) International Lim...  \n",
       "2    Busia  Ajiba v Manya (Civil Case E001 of 2024) [2024]...  \n",
       "3  Nairobi  Sharif v Munyoki t/a Kauma Hardware (Tribunal ...  \n",
       "4  Nairobi  Kamau t/a Victory Choma Roast v Kinyanjui; Mwa...  \n",
       "5  Nairobi  Matheka v Monga (Tribunal Case E123 of 2024) [...  \n",
       "6  Nairobi  Chepkosi v Njambi (Tribunal Case E551 of 2023)...  \n",
       "7   Nakuru  Mwangi v Family Bank Limited (Employment and L...  \n",
       "8   Nakuru  A S Kuloba & Wangila Advocates v Walingo (Misc...  \n",
       "9  Mombasa  Colin Stuart t/a Little Bay Investment Ltd v Y...  "
      ]
     },
     "execution_count": 108,
     "metadata": {},
     "output_type": "execute_result"
    }
   ],
   "source": [
    "df.head(10)"
   ]
  },
  {
   "cell_type": "markdown",
   "metadata": {},
   "source": [
    "## Encoding data"
   ]
  },
  {
   "cell_type": "code",
   "execution_count": 109,
   "metadata": {},
   "outputs": [],
   "source": [
    "# List of counties\n",
    "counties = [\n",
    "    'Mombasa', 'Kwale', 'Kilifi', 'Tana River', 'Lamu', 'Taita/Taveta', 'Garissa', \n",
    "    'Wajir', 'Mandera', 'Marsabit', 'Isiolo', 'Meru', 'Tharaka-Nithi', 'Embu', \n",
    "    'Kitui', 'Machakos', 'Makueni', 'Nyandarua', 'Nyeri', 'Kirinyaga', \"Murang'a\", \n",
    "    'Kiambu', 'Turkana', 'West Pokot', 'Samburu', 'Trans Nzoia', 'Uasin Gishu', \n",
    "    'Elgeyo/Marakwet', 'Nandi', 'Baringo', 'Laikipia', 'Nakuru', 'Narok', 'Kajiado', \n",
    "    'Kericho', 'Bomet', 'Kakamega', 'Vihiga', 'Bungoma', 'Busia', 'Siaya', 'Kisumu', \n",
    "    'Homa Bay', 'Migori', 'Kisii', 'Nyamira', 'Nairobi City'\n",
    "]\n"
   ]
  },
  {
   "cell_type": "code",
   "execution_count": 111,
   "metadata": {},
   "outputs": [
    {
     "name": "stdout",
     "output_type": "stream",
     "text": [
      "             County County_Code\n",
      "0           Mombasa         001\n",
      "1             Kwale         002\n",
      "2            Kilifi         003\n",
      "3        Tana River         004\n",
      "4              Lamu         005\n",
      "5      Taita/Taveta         006\n",
      "6           Garissa         007\n",
      "7             Wajir         008\n",
      "8           Mandera         009\n",
      "9          Marsabit         010\n",
      "10           Isiolo         011\n",
      "11             Meru         012\n",
      "12    Tharaka-Nithi         013\n",
      "13             Embu         014\n",
      "14            Kitui         015\n",
      "15         Machakos         016\n",
      "16          Makueni         017\n",
      "17        Nyandarua         018\n",
      "18            Nyeri         019\n",
      "19        Kirinyaga         020\n",
      "20         Murang'a         021\n",
      "21           Kiambu         022\n",
      "22          Turkana         023\n",
      "23       West Pokot         024\n",
      "24          Samburu         025\n",
      "25      Trans Nzoia         026\n",
      "26      Uasin Gishu         027\n",
      "27  Elgeyo/Marakwet         028\n",
      "28            Nandi         029\n",
      "29          Baringo         030\n",
      "30         Laikipia         031\n",
      "31           Nakuru         032\n",
      "32            Narok         033\n",
      "33          Kajiado         034\n",
      "34          Kericho         035\n",
      "35            Bomet         036\n",
      "36         Kakamega         037\n",
      "37           Vihiga         038\n",
      "38          Bungoma         039\n",
      "39            Busia         040\n",
      "40            Siaya         041\n",
      "41           Kisumu         042\n",
      "42         Homa Bay         043\n",
      "43           Migori         044\n",
      "44            Kisii         045\n",
      "45          Nyamira         046\n",
      "46     Nairobi City         047\n"
     ]
    }
   ],
   "source": [
    "df = pd.DataFrame(counties, columns=['County'])\n",
    "\n",
    "# Create a column with sequential numbers starting from 1 and formatting them to 3 digits\n",
    "df['County_Code'] = [f'{i:03}' for i in range(1, len(df) + 1)]\n",
    "\n",
    "# Display the DataFrame\n",
    "print(df)"
   ]
  },
  {
   "cell_type": "code",
   "execution_count": null,
   "metadata": {},
   "outputs": [],
   "source": []
  }
 ],
 "metadata": {
  "kernelspec": {
   "display_name": "Python 3",
   "language": "python",
   "name": "python3"
  },
  "language_info": {
   "codemirror_mode": {
    "name": "ipython",
    "version": 3
   },
   "file_extension": ".py",
   "mimetype": "text/x-python",
   "name": "python",
   "nbconvert_exporter": "python",
   "pygments_lexer": "ipython3",
   "version": "3.10.12"
  }
 },
 "nbformat": 4,
 "nbformat_minor": 2
}
